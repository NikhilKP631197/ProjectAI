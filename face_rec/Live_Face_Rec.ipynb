{
 "cells": [
  {
   "cell_type": "code",
   "execution_count": null,
   "metadata": {},
   "outputs": [],
   "source": [
    "import face_recognition\n",
    "import cv2\n",
    "import numpy as np\n",
    "import os"
   ]
  },
  {
   "cell_type": "code",
   "execution_count": null,
   "metadata": {},
   "outputs": [],
   "source": [
    "BASE_DIR = \"C:\\\\Users\\\\Nikhil kr Parashar\\\\face_rec\"\n",
    "image_dir = os.path.join(BASE_DIR,\"face train\")"
   ]
  },
  {
   "cell_type": "code",
   "execution_count": null,
   "metadata": {},
   "outputs": [],
   "source": [
    "video_capture = cv2.VideoCapture(0)"
   ]
  },
  {
   "cell_type": "code",
   "execution_count": null,
   "metadata": {},
   "outputs": [],
   "source": [
    "def get_encoded_faces():\n",
    "    encoded = {}\n",
    "\n",
    "    for dirpath, dnames, fnames in os.walk(image_dir):\n",
    "        for f in fnames:\n",
    "            if f.endswith(\".jpg\") or f.endswith(\".png\") or f.endswith(\".jpeg\") or f.endswith(\".PNG\") or f.endswith(\".JPG\") or f.endswith(\".JPEG\") :\n",
    "                face = face_recognition.load_image_file(\"face train/\" + f)\n",
    "                encoding = face_recognition.face_encodings(face)[0]\n",
    "                encoded[f.split(\".\")[0]] = encoding\n",
    "\n",
    "    return encoded"
   ]
  },
  {
   "cell_type": "code",
   "execution_count": null,
   "metadata": {},
   "outputs": [],
   "source": [
    "def classify_face():\n",
    "    \n",
    "    faces = get_encoded_faces()\n",
    "    \n",
    "    known_face_encodings = list(faces.values())\n",
    "\n",
    "    known_face_names = list(faces.keys())\n",
    "\n",
    "    # Initialize some variable\n",
    "    face_locations = []\n",
    "    face_encodings = []\n",
    "    face_names = []\n",
    "    process_this_frame = True\n",
    "\n",
    "    while True:\n",
    "        ret, frame = video_capture.read()\n",
    "        \n",
    "        small_frame = cv2.resize(frame, (0,0), fx=0.25, fy=0.25)\n",
    "\n",
    "        rgb_small_frame = small_frame[:,:,::-1]\n",
    "        \n",
    "        face_locations = face_recognition.face_locations(rgb_small_frame)\n",
    "        face_encodings = face_recognition.face_encodings(rgb_small_frame, face_locations)\n",
    "\n",
    "        for encodeFace,faceLoc in zip(face_encodings, face_locations):\n",
    "            matches = face_recognition.compare_faces(known_face_encodings,encodeFace,0.5)\n",
    "            faceDis = face_recognition.face_distance(known_face_encodings, encodeFace)\n",
    "            matchIndex = np.argmin(faceDis)\n",
    "            name =\"Unknown\"\n",
    "            \n",
    "            if matches[matchIndex]:\n",
    "                name = known_face_names[matchIndex]\n",
    "                y1,x2,y2,x1 = faceLoc\n",
    "                y1,x2,y2,x1 = y1*4,x2*4,y2*4,x1*4\n",
    "                cv2.rectangle(frame, (x1,y1), (x2,y2), (0,255,0),2)\n",
    "                cv2.rectangle(frame,(x1,y2-35), (x2,y2), (0,255,0), cv2.FILLED)\n",
    "                cv2.putText(frame, name, (x1-6,y2-6),cv2.FONT_HERSHEY_COMPLEX,0.5,(255,255,255),2)\n",
    "            if not matches[matchIndex]:\n",
    "                y1,x2,y2,x1 = faceLoc\n",
    "                y1,x2,y2,x1 = y1*4,x2*4,y2*4,x1*4\n",
    "                cv2.rectangle(frame, (x1,y1), (x2,y2), (0,255,0),2)\n",
    "                cv2.rectangle(frame,(x1,y2-35), (x2,y2), (0,255,0), cv2.FILLED)\n",
    "                cv2.putText(frame, name, (x1-6,y2-6),cv2.FONT_HERSHEY_COMPLEX,0.5,(255,255,255),2)\n",
    "\n",
    "\n",
    "        # Display Result\n",
    "        cv2.imshow(\"Video\", frame)\n",
    "\n",
    "        if cv2.waitKey(1) & 0xFF == ord('q'):\n",
    "            break\n",
    "\n",
    "    video_capture.release()\n",
    "    cv2.destroyAllWindows()"
   ]
  },
  {
   "cell_type": "code",
   "execution_count": null,
   "metadata": {},
   "outputs": [],
   "source": [
    "classify_face()"
   ]
  },
  {
   "cell_type": "code",
   "execution_count": null,
   "metadata": {},
   "outputs": [],
   "source": []
  }
 ],
 "metadata": {
  "kernelspec": {
   "display_name": "Python 3",
   "language": "python",
   "name": "python3"
  },
  "language_info": {
   "codemirror_mode": {
    "name": "ipython",
    "version": 3
   },
   "file_extension": ".py",
   "mimetype": "text/x-python",
   "name": "python",
   "nbconvert_exporter": "python",
   "pygments_lexer": "ipython3",
   "version": "3.8.5"
  }
 },
 "nbformat": 4,
 "nbformat_minor": 4
}
