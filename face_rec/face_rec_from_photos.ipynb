{
 "cells": [
  {
   "cell_type": "code",
   "execution_count": null,
   "metadata": {},
   "outputs": [],
   "source": [
    "import os\n",
    "import cv2\n",
    "import face_recognition\n",
    "import numpy as np\n",
    "from time import sleep"
   ]
  },
  {
   "cell_type": "code",
   "execution_count": null,
   "metadata": {},
   "outputs": [],
   "source": [
    "BASE_DIR = \"C:\\\\Users\\\\Nikhil kr Parashar\\\\face_rec\"\n",
    "image_dir = os.path.join(BASE_DIR,\"face train\")"
   ]
  },
  {
   "cell_type": "code",
   "execution_count": null,
   "metadata": {},
   "outputs": [],
   "source": [
    "def get_encoded_faces():\n",
    "    encoded = {}\n",
    "\n",
    "    for dirpath, dnames, fnames in os.walk(image_dir):\n",
    "        for f in fnames:\n",
    "            if f.endswith(\".jpg\") or f.endswith(\".png\") or f.endswith(\".jpeg\") or f.endswith(\".PNG\") or f.endswith(\".JPG\") or f.endswith(\".JPEG\") :\n",
    "                face = face_recognition.load_image_file(\"face train/\" + f)\n",
    "                encoding = face_recognition.face_encodings(face)[0]\n",
    "                encoded[f.split(\".\")[0]] = encoding\n",
    "\n",
    "    return encoded"
   ]
  },
  {
   "cell_type": "code",
   "execution_count": null,
   "metadata": {},
   "outputs": [],
   "source": [
    "def unknown_image_encoded(img):\n",
    "    face = fr.load_image_file(\"face test/\" + img)\n",
    "    encoding = fr.face_encodings(face)[0]\n",
    "\n",
    "    return encoding"
   ]
  },
  {
   "cell_type": "code",
   "execution_count": null,
   "metadata": {},
   "outputs": [],
   "source": [
    "def classify_face(im):\n",
    "    faces = get_encoded_faces()\n",
    "    faces_encoded = list(faces.values())\n",
    "    known_face_names = list(faces.keys())\n",
    "\n",
    "    img = cv2.imread(im, 1)\n",
    "    #img = cv2.resize(img, (0, 0), fx=0.5, fy=0.5)\n",
    "    #img = img[:,:,::-1]\n",
    " \n",
    "    face_locations = face_recognition.face_locations(img)\n",
    "    unknown_face_encodings = face_recognition.face_encodings(img, face_locations)\n",
    "\n",
    "    face_names = []\n",
    "    for face_encoding in unknown_face_encodings:\n",
    "        # See if the face is a match for the known face(s)\n",
    "        matches = face_recognition.compare_faces(faces_encoded, face_encoding)\n",
    "        name = \"Unknown\"\n",
    "\n",
    "        # use the known face with the smallest distance to the new face\n",
    "        face_distances = face_recognition.face_distance(faces_encoded, face_encoding)\n",
    "        best_match_index = np.argmin(face_distances)\n",
    "        if matches[best_match_index]:\n",
    "            name = known_face_names[best_match_index]\n",
    "\n",
    "        face_names.append(name)\n",
    "\n",
    "        for (top, right, bottom, left), name in zip(face_locations, face_names):\n",
    "            # Draw a box around the face\n",
    "            cv2.rectangle(img, (left-20, top-20), (right+20, bottom+20), (0, 255, 0), 2)\n",
    "\n",
    "            # Draw a label with a name below the face\n",
    "            cv2.rectangle(img, (left-20, bottom -15), (right+20, bottom+20), (0, 255, 0), cv2.FILLED)\n",
    "            font = cv2.FONT_HERSHEY_DUPLEX\n",
    "            cv2.putText(img, name, (left -20, bottom + 15), font, 0.5, (255, 255, 255), 2)\n",
    "\n",
    "\n",
    "    # Display the resulting image\n",
    "    while True:\n",
    "\n",
    "        cv2.imshow('Video', img)\n",
    "        if cv2.waitKey(1) & 0xFF == ord('q'):\n",
    "            break\n",
    "    cv2.destroyAllWindows()\n",
    "    return face_names"
   ]
  },
  {
   "cell_type": "code",
   "execution_count": null,
   "metadata": {},
   "outputs": [],
   "source": [
    "image_ = \"C:\\\\Users\\\\Nikhil kr Parashar\\\\face_rec\\\\face test\\\\\"\n",
    "img_ = input(\"Enter the photo name with extension: \")"
   ]
  },
  {
   "cell_type": "code",
   "execution_count": null,
   "metadata": {},
   "outputs": [],
   "source": [
    "print(classify_face(image_ + img_))"
   ]
  },
  {
   "cell_type": "code",
   "execution_count": null,
   "metadata": {},
   "outputs": [],
   "source": []
  }
 ],
 "metadata": {
  "kernelspec": {
   "display_name": "Python 3",
   "language": "python",
   "name": "python3"
  },
  "language_info": {
   "codemirror_mode": {
    "name": "ipython",
    "version": 3
   },
   "file_extension": ".py",
   "mimetype": "text/x-python",
   "name": "python",
   "nbconvert_exporter": "python",
   "pygments_lexer": "ipython3",
   "version": "3.8.5"
  }
 },
 "nbformat": 4,
 "nbformat_minor": 2
}
